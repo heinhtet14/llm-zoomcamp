{
 "cells": [
  {
   "cell_type": "markdown",
   "id": "46e7741c-eb22-430a-87aa-a16219f5ab72",
   "metadata": {},
   "source": [
    "GETTING THE DATA"
   ]
  },
  {
   "cell_type": "code",
   "execution_count": 2,
   "id": "fa2cab7c-f554-47b1-9c68-f0c98b6dfaf1",
   "metadata": {},
   "outputs": [],
   "source": [
    "from elasticsearch import Elasticsearch\n",
    "from tqdm import tqdm\n",
    "import requests as r"
   ]
  },
  {
   "cell_type": "markdown",
   "id": "6d43b2d5-674f-4c25-8a29-281a49e006d2",
   "metadata": {},
   "source": [
    "Question 1 Running Elastic"
   ]
  },
  {
   "cell_type": "code",
   "execution_count": 7,
   "id": "ed3a9cce-274d-47c5-8c70-3fa42613d084",
   "metadata": {},
   "outputs": [],
   "source": [
    "es = Elasticsearch('http://localhost:9200')"
   ]
  },
  {
   "cell_type": "code",
   "execution_count": 10,
   "id": "daf7b1d1-8506-4ee6-82fa-91a564cfc06e",
   "metadata": {},
   "outputs": [
    {
     "name": "stdout",
     "output_type": "stream",
     "text": [
      "ans: 42f05b9372a9a4a470db3b52817899b99a76ee73\n"
     ]
    }
   ],
   "source": [
    "print('ans:', es.info()['version']['build_hash'])"
   ]
  },
  {
   "cell_type": "code",
   "execution_count": 11,
   "id": "978fbbbc-fe15-44a6-99f4-8a9d7be641c0",
   "metadata": {},
   "outputs": [],
   "source": [
    "import requests \n",
    "\n",
    "docs_url = 'https://github.com/DataTalksClub/llm-zoomcamp/blob/main/01-intro/documents.json?raw=1'\n",
    "docs_response = requests.get(docs_url)\n",
    "documents_raw = docs_response.json()\n",
    "\n",
    "documents = []\n",
    "\n",
    "for course in documents_raw:\n",
    "    course_name = course['course']\n",
    "\n",
    "    for doc in course['documents']:\n",
    "        doc['course'] = course_name\n",
    "        documents.append(doc)"
   ]
  },
  {
   "cell_type": "code",
   "execution_count": 13,
   "id": "d102f927-e260-45d7-829a-75154274327b",
   "metadata": {},
   "outputs": [
    {
     "data": {
      "text/plain": [
       "[{'text': \"The purpose of this document is to capture frequently asked technical questions\\nThe exact day and hour of the course will be 15th Jan 2024 at 17h00. The course will start with the first  “Office Hours'' live.1\\nSubscribe to course public Google Calendar (it works from Desktop only).\\nRegister before the course starts using this link.\\nJoin the course Telegram channel with announcements.\\nDon’t forget to register in DataTalks.Club's Slack and join the channel.\",\n",
       "  'section': 'General course-related questions',\n",
       "  'question': 'Course - When will the course start?',\n",
       "  'course': 'data-engineering-zoomcamp'},\n",
       " {'text': 'GitHub - DataTalksClub data-engineering-zoomcamp#prerequisites',\n",
       "  'section': 'General course-related questions',\n",
       "  'question': 'Course - What are the prerequisites for this course?',\n",
       "  'course': 'data-engineering-zoomcamp'},\n",
       " {'text': \"Yes, even if you don't register, you're still eligible to submit the homeworks.\\nBe aware, however, that there will be deadlines for turning in the final projects. So don't leave everything for the last minute.\",\n",
       "  'section': 'General course-related questions',\n",
       "  'question': 'Course - Can I still join the course after the start date?',\n",
       "  'course': 'data-engineering-zoomcamp'}]"
      ]
     },
     "execution_count": 13,
     "metadata": {},
     "output_type": "execute_result"
    }
   ],
   "source": [
    "documents[:3]"
   ]
  },
  {
   "cell_type": "markdown",
   "id": "d12230d9-3a87-4ce0-b85b-c82afb54afdc",
   "metadata": {},
   "source": [
    "Question 2"
   ]
  },
  {
   "cell_type": "code",
   "execution_count": 14,
   "id": "0832411e-01af-4886-96d6-53fef7bfdee6",
   "metadata": {},
   "outputs": [],
   "source": [
    "index_settings = dict(\n",
    "    settings=dict(number_of_shards=1, number_of_replicas=0),\n",
    "    mappings=dict(\n",
    "        properties=dict(\n",
    "            text=dict(type='text'),\n",
    "            section=dict(type='text'),\n",
    "            question=dict(type='text'),\n",
    "            course=dict(type='keyword')\n",
    "        )\n",
    "    )\n",
    ")\n",
    "index_name = 'course-questions'"
   ]
  },
  {
   "cell_type": "code",
   "execution_count": 16,
   "id": "d476254f-25c2-44ae-8c80-1f5b99397f3f",
   "metadata": {},
   "outputs": [
    {
     "name": "stderr",
     "output_type": "stream",
     "text": [
      "100%|█████████████████████████████████████████████████████████| 948/948 [00:21<00:00, 44.21it/s]\n"
     ]
    }
   ],
   "source": [
    "for doc in tqdm(documents):\n",
    "    es.index(index=index_name, document=doc)"
   ]
  },
  {
   "cell_type": "markdown",
   "id": "5a1d5efc-55f6-48ed-a40f-9e13178432a6",
   "metadata": {},
   "source": [
    "Question 3"
   ]
  },
  {
   "cell_type": "code",
   "execution_count": 17,
   "id": "ae2a2033-d15a-4adc-9690-f35de8897431",
   "metadata": {},
   "outputs": [],
   "source": [
    "query = 'How do I execute a command in a running docker container?'\n",
    "query_template = dict(\n",
    "    size=5,\n",
    "    query=dict(\n",
    "        bool=dict(\n",
    "            must=dict(multi_match=dict(query=query, fields=['question^4', 'text'], type='best_fields')),\n",
    "        )\n",
    "    )\n",
    ")"
   ]
  },
  {
   "cell_type": "code",
   "execution_count": 18,
   "id": "5cbee6ed-e87a-447d-acad-ebc0d287cf4e",
   "metadata": {},
   "outputs": [
    {
     "name": "stdout",
     "output_type": "stream",
     "text": [
      "Answer: 84.050095\n"
     ]
    }
   ],
   "source": [
    "response = es.search(index=index_name, body=query_template)\n",
    "best_score = response['hits']['hits'][0]['_score']\n",
    "\n",
    "print('Answer:', best_score)"
   ]
  },
  {
   "cell_type": "markdown",
   "id": "cbb972ea-9253-40ed-9961-6f614dae8245",
   "metadata": {},
   "source": [
    "Q4 Filtering"
   ]
  },
  {
   "cell_type": "code",
   "execution_count": 26,
   "id": "8c8c9f80-09da-4291-9552-7592acdc4bb6",
   "metadata": {},
   "outputs": [
    {
     "name": "stdout",
     "output_type": "stream",
     "text": [
      "Not enough hits found to extract the third question. Only found 0 hits.\n"
     ]
    }
   ],
   "source": [
    "query = 'How do I execute a command in a running docker container?'\n",
    "query_template = dict(\n",
    "    size=5,  # Increase the size to get more hits\n",
    "    query=dict(\n",
    "        bool=dict(\n",
    "            must=dict(multi_match=dict(query=query, fields=['question^4', 'text'], type='best_fields'))\n",
    "            ,filter=dict(term=dict(course='machine-learning-zoomcamp'))\n",
    "        )\n",
    "    )\n",
    ")\n",
    "\n",
    "response = es.search(index=index_name, body=query_template)\n",
    "hits = [m['_source'] for m in response['hits']['hits']]\n",
    "\n",
    "# Check if there are enough hits\n",
    "if len(hits) >= 3:\n",
    "    third_question = hits[2]['question']\n",
    "    print('Answer:', third_question)\n",
    "else:\n",
    "    print('Not enough hits found to extract the third question. Only found {} hits.'.format(len(hits)))\n"
   ]
  },
  {
   "cell_type": "code",
   "execution_count": null,
   "id": "36a90b3c-3633-4d71-b293-4fd23d5720ec",
   "metadata": {},
   "outputs": [],
   "source": [
    "Q"
   ]
  }
 ],
 "metadata": {
  "kernelspec": {
   "display_name": "Python 3 (ipykernel)",
   "language": "python",
   "name": "python3"
  },
  "language_info": {
   "codemirror_mode": {
    "name": "ipython",
    "version": 3
   },
   "file_extension": ".py",
   "mimetype": "text/x-python",
   "name": "python",
   "nbconvert_exporter": "python",
   "pygments_lexer": "ipython3",
   "version": "3.10.13"
  }
 },
 "nbformat": 4,
 "nbformat_minor": 5
}
